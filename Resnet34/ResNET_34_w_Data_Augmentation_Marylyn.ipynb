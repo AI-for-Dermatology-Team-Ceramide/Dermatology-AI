{
  "cells": [
    {
      "cell_type": "code",
      "execution_count": 1,
      "metadata": {
        "colab": {
          "base_uri": "https://localhost:8080/",
          "height": 301,
          "referenced_widgets": [
            "dd5679559d2b4e4aa4c532071020f4be",
            "8a904352691a4d97abc72358dfb9cbf9",
            "3c177c7275f540978e05db0e7cf4efcf",
            "14463d0e0bc3472abb845f2e73d047f6",
            "3ae3736b24ad494380bbced0bc2837b4",
            "c4371c15bd3141cba6863fd0ba50597f",
            "e97a4543b04c4e45988148b23e82f535",
            "c2b045a9898c4f9ea7973d5a9d3a642c",
            "1ee63c22e2c34db9a6d1e18ff9d2ddc5",
            "dfd31908732a4b19946921ec3c15f716",
            "bc78dcb6ad734cada3a707f97f7e0b24",
            "a1f508ee467044b99d873009ac8ea29d",
            "246e30354d5f496ab01d9075aa0590d1",
            "b4fbcf0a40e24bceb01a424451c40100",
            "79162e7501704f00974440fd2fbd8bf1",
            "28fdf12a0fcc4d5d85f59100384e5af8",
            "68acde3d78b94fb78f3e13ee985dc5be"
          ]
        },
        "id": "gejMZxw7DteD",
        "outputId": "cabd6d59-73c6-44b8-8f99-12a169a651e4"
      },
      "outputs": [
        {
          "output_type": "display_data",
          "data": {
            "text/plain": [
              "VBox(children=(HTML(value='<center> <img\\nsrc=https://www.kaggle.com/static/images/site-logo.png\\nalt=\\'Kaggle…"
            ],
            "application/vnd.jupyter.widget-view+json": {
              "version_major": 2,
              "version_minor": 0,
              "model_id": "dd5679559d2b4e4aa4c532071020f4be"
            }
          },
          "metadata": {}
        }
      ],
      "source": [
        "# IMPORTANT: SOME KAGGLE DATA SOURCES ARE PRIVATE\n",
        "# RUN THIS CELL IN ORDER TO IMPORT YOUR KAGGLE DATA SOURCES.\n",
        "import kagglehub\n",
        "kagglehub.login()\n"
      ]
    },
    {
      "cell_type": "code",
      "execution_count": 2,
      "metadata": {
        "id": "_nxBWkXIG2E9",
        "colab": {
          "base_uri": "https://localhost:8080/"
        },
        "outputId": "84afb9c9-c0bd-4936-90aa-e80d9306977d"
      },
      "outputs": [
        {
          "output_type": "stream",
          "name": "stdout",
          "text": [
            "Mounted at /content/drive\n"
          ]
        }
      ],
      "source": [
        "from google.colab import drive\n",
        "drive.mount('/content/drive')"
      ]
    },
    {
      "cell_type": "code",
      "execution_count": 4,
      "metadata": {
        "colab": {
          "base_uri": "https://localhost:8080/",
          "height": 356
        },
        "id": "_2gHEmKuDteE",
        "outputId": "ee317820-4f0a-4a33-8423-5505b8618e3c",
        "collapsed": true
      },
      "outputs": [
        {
          "output_type": "error",
          "ename": "UnauthenticatedError",
          "evalue": "User is not authenticated",
          "traceback": [
            "\u001b[0;31m---------------------------------------------------------------------------\u001b[0m",
            "\u001b[0;31mUnauthenticatedError\u001b[0m                      Traceback (most recent call last)",
            "\u001b[0;32m<ipython-input-4-b2d26ed15394>\u001b[0m in \u001b[0;36m<cell line: 0>\u001b[0;34m()\u001b[0m\n\u001b[1;32m      5\u001b[0m \u001b[0;31m# NOTEBOOK.\u001b[0m\u001b[0;34m\u001b[0m\u001b[0;34m\u001b[0m\u001b[0m\n\u001b[1;32m      6\u001b[0m \u001b[0;34m\u001b[0m\u001b[0m\n\u001b[0;32m----> 7\u001b[0;31m \u001b[0mbttai_ajl_2025_path\u001b[0m \u001b[0;34m=\u001b[0m \u001b[0mkagglehub\u001b[0m\u001b[0;34m.\u001b[0m\u001b[0mcompetition_download\u001b[0m\u001b[0;34m(\u001b[0m\u001b[0;34m'bttai-ajl-2025'\u001b[0m\u001b[0;34m)\u001b[0m\u001b[0;34m\u001b[0m\u001b[0;34m\u001b[0m\u001b[0m\n\u001b[0m\u001b[1;32m      8\u001b[0m \u001b[0;34m\u001b[0m\u001b[0m\n\u001b[1;32m      9\u001b[0m \u001b[0mprint\u001b[0m\u001b[0;34m(\u001b[0m\u001b[0;34m'Data source import complete.'\u001b[0m\u001b[0;34m)\u001b[0m\u001b[0;34m\u001b[0m\u001b[0;34m\u001b[0m\u001b[0m\n",
            "\u001b[0;32m/usr/local/lib/python3.11/dist-packages/kagglehub/competition.py\u001b[0m in \u001b[0;36mcompetition_download\u001b[0;34m(handle, path, force_download)\u001b[0m\n\u001b[1;32m     21\u001b[0m     \u001b[0mh\u001b[0m \u001b[0;34m=\u001b[0m \u001b[0mparse_competition_handle\u001b[0m\u001b[0;34m(\u001b[0m\u001b[0mhandle\u001b[0m\u001b[0;34m)\u001b[0m\u001b[0;34m\u001b[0m\u001b[0;34m\u001b[0m\u001b[0m\n\u001b[1;32m     22\u001b[0m     \u001b[0mlogger\u001b[0m\u001b[0;34m.\u001b[0m\u001b[0minfo\u001b[0m\u001b[0;34m(\u001b[0m\u001b[0;34mf\"Downloading competition: {h.to_url()} ...\"\u001b[0m\u001b[0;34m,\u001b[0m \u001b[0mextra\u001b[0m\u001b[0;34m=\u001b[0m\u001b[0;34m{\u001b[0m\u001b[0;34m**\u001b[0m\u001b[0mEXTRA_CONSOLE_BLOCK\u001b[0m\u001b[0;34m}\u001b[0m\u001b[0;34m)\u001b[0m\u001b[0;34m\u001b[0m\u001b[0;34m\u001b[0m\u001b[0m\n\u001b[0;32m---> 23\u001b[0;31m     \u001b[0mpath\u001b[0m\u001b[0;34m,\u001b[0m \u001b[0m_\u001b[0m \u001b[0;34m=\u001b[0m \u001b[0mregistry\u001b[0m\u001b[0;34m.\u001b[0m\u001b[0mcompetition_resolver\u001b[0m\u001b[0;34m(\u001b[0m\u001b[0mh\u001b[0m\u001b[0;34m,\u001b[0m \u001b[0mpath\u001b[0m\u001b[0;34m,\u001b[0m \u001b[0mforce_download\u001b[0m\u001b[0;34m=\u001b[0m\u001b[0mforce_download\u001b[0m\u001b[0;34m)\u001b[0m\u001b[0;34m\u001b[0m\u001b[0;34m\u001b[0m\u001b[0m\n\u001b[0m\u001b[1;32m     24\u001b[0m     \u001b[0;32mreturn\u001b[0m \u001b[0mpath\u001b[0m\u001b[0;34m\u001b[0m\u001b[0;34m\u001b[0m\u001b[0m\n",
            "\u001b[0;32m/usr/local/lib/python3.11/dist-packages/kagglehub/registry.py\u001b[0m in \u001b[0;36m__call__\u001b[0;34m(self, *args, **kwargs)\u001b[0m\n\u001b[1;32m     26\u001b[0m         \u001b[0;32mfor\u001b[0m \u001b[0mimpl\u001b[0m \u001b[0;32min\u001b[0m \u001b[0mreversed\u001b[0m\u001b[0;34m(\u001b[0m\u001b[0mself\u001b[0m\u001b[0;34m.\u001b[0m\u001b[0m_impls\u001b[0m\u001b[0;34m)\u001b[0m\u001b[0;34m:\u001b[0m\u001b[0;34m\u001b[0m\u001b[0;34m\u001b[0m\u001b[0m\n\u001b[1;32m     27\u001b[0m             \u001b[0;32mif\u001b[0m \u001b[0mimpl\u001b[0m\u001b[0;34m.\u001b[0m\u001b[0mis_supported\u001b[0m\u001b[0;34m(\u001b[0m\u001b[0;34m*\u001b[0m\u001b[0margs\u001b[0m\u001b[0;34m,\u001b[0m \u001b[0;34m**\u001b[0m\u001b[0mkwargs\u001b[0m\u001b[0;34m)\u001b[0m\u001b[0;34m:\u001b[0m\u001b[0;34m\u001b[0m\u001b[0;34m\u001b[0m\u001b[0m\n\u001b[0;32m---> 28\u001b[0;31m                 \u001b[0;32mreturn\u001b[0m \u001b[0mimpl\u001b[0m\u001b[0;34m(\u001b[0m\u001b[0;34m*\u001b[0m\u001b[0margs\u001b[0m\u001b[0;34m,\u001b[0m \u001b[0;34m**\u001b[0m\u001b[0mkwargs\u001b[0m\u001b[0;34m)\u001b[0m\u001b[0;34m\u001b[0m\u001b[0;34m\u001b[0m\u001b[0m\n\u001b[0m\u001b[1;32m     29\u001b[0m             \u001b[0;32melse\u001b[0m\u001b[0;34m:\u001b[0m\u001b[0;34m\u001b[0m\u001b[0;34m\u001b[0m\u001b[0m\n\u001b[1;32m     30\u001b[0m                 \u001b[0mfails\u001b[0m\u001b[0;34m.\u001b[0m\u001b[0mappend\u001b[0m\u001b[0;34m(\u001b[0m\u001b[0mtype\u001b[0m\u001b[0;34m(\u001b[0m\u001b[0mimpl\u001b[0m\u001b[0;34m)\u001b[0m\u001b[0;34m.\u001b[0m\u001b[0m__name__\u001b[0m\u001b[0;34m)\u001b[0m\u001b[0;34m\u001b[0m\u001b[0;34m\u001b[0m\u001b[0m\n",
            "\u001b[0;32m/usr/local/lib/python3.11/dist-packages/kagglehub/resolver.py\u001b[0m in \u001b[0;36m__call__\u001b[0;34m(self, handle, path, force_download)\u001b[0m\n\u001b[1;32m     27\u001b[0m             \u001b[0mSome\u001b[0m \u001b[0mcases\u001b[0m \u001b[0mwhere\u001b[0m \u001b[0mversion\u001b[0m \u001b[0mnumber\u001b[0m \u001b[0mmight\u001b[0m \u001b[0mbe\u001b[0m \u001b[0mmissing\u001b[0m\u001b[0;34m:\u001b[0m \u001b[0mCompetition\u001b[0m \u001b[0mdatasource\u001b[0m\u001b[0;34m,\u001b[0m \u001b[0mAPI\u001b[0m\u001b[0;34m-\u001b[0m\u001b[0mbased\u001b[0m \u001b[0mmodels\u001b[0m\u001b[0;34m.\u001b[0m\u001b[0;34m\u001b[0m\u001b[0;34m\u001b[0m\u001b[0m\n\u001b[1;32m     28\u001b[0m         \"\"\"\n\u001b[0;32m---> 29\u001b[0;31m         \u001b[0mpath\u001b[0m\u001b[0;34m,\u001b[0m \u001b[0mversion\u001b[0m \u001b[0;34m=\u001b[0m \u001b[0mself\u001b[0m\u001b[0;34m.\u001b[0m\u001b[0m_resolve\u001b[0m\u001b[0;34m(\u001b[0m\u001b[0mhandle\u001b[0m\u001b[0;34m,\u001b[0m \u001b[0mpath\u001b[0m\u001b[0;34m,\u001b[0m \u001b[0mforce_download\u001b[0m\u001b[0;34m=\u001b[0m\u001b[0mforce_download\u001b[0m\u001b[0;34m)\u001b[0m\u001b[0;34m\u001b[0m\u001b[0;34m\u001b[0m\u001b[0m\n\u001b[0m\u001b[1;32m     30\u001b[0m \u001b[0;34m\u001b[0m\u001b[0m\n\u001b[1;32m     31\u001b[0m         \u001b[0;31m# Note handles are immutable, so _resolve() could not have altered our reference\u001b[0m\u001b[0;34m\u001b[0m\u001b[0;34m\u001b[0m\u001b[0m\n",
            "\u001b[0;32m/usr/local/lib/python3.11/dist-packages/kagglehub/http_resolver.py\u001b[0m in \u001b[0;36m_resolve\u001b[0;34m(self, h, path, force_download)\u001b[0m\n\u001b[1;32m     48\u001b[0m             \u001b[0;32mif\u001b[0m \u001b[0mcached_path\u001b[0m\u001b[0;34m:\u001b[0m\u001b[0;34m\u001b[0m\u001b[0;34m\u001b[0m\u001b[0m\n\u001b[1;32m     49\u001b[0m                 \u001b[0;32mreturn\u001b[0m \u001b[0mcached_path\u001b[0m\u001b[0;34m,\u001b[0m \u001b[0;32mNone\u001b[0m\u001b[0;34m\u001b[0m\u001b[0;34m\u001b[0m\u001b[0m\n\u001b[0;32m---> 50\u001b[0;31m             \u001b[0;32mraise\u001b[0m \u001b[0mUnauthenticatedError\u001b[0m\u001b[0;34m(\u001b[0m\u001b[0;34m)\u001b[0m\u001b[0;34m\u001b[0m\u001b[0;34m\u001b[0m\u001b[0m\n\u001b[0m\u001b[1;32m     51\u001b[0m \u001b[0;34m\u001b[0m\u001b[0m\n\u001b[1;32m     52\u001b[0m         \u001b[0mout_path\u001b[0m \u001b[0;34m=\u001b[0m \u001b[0mget_cached_path\u001b[0m\u001b[0;34m(\u001b[0m\u001b[0mh\u001b[0m\u001b[0;34m,\u001b[0m \u001b[0mpath\u001b[0m\u001b[0;34m)\u001b[0m\u001b[0;34m\u001b[0m\u001b[0;34m\u001b[0m\u001b[0m\n",
            "\u001b[0;31mUnauthenticatedError\u001b[0m: User is not authenticated"
          ]
        }
      ],
      "source": [
        "# IMPORTANT: RUN THIS CELL IN ORDER TO IMPORT YOUR KAGGLE DATA SOURCES,\n",
        "# THEN FEEL FREE TO DELETE THIS CELL.\n",
        "# NOTE: THIS NOTEBOOK ENVIRONMENT DIFFERS FROM KAGGLE'S PYTHON\n",
        "# ENVIRONMENT SO THERE MAY BE MISSING LIBRARIES USED BY YOUR\n",
        "# NOTEBOOK.\n",
        "\n",
        "bttai_ajl_2025_path = kagglehub.competition_download('bttai-ajl-2025')\n",
        "\n",
        "print('Data source import complete.')\n"
      ]
    },
    {
      "cell_type": "code",
      "execution_count": null,
      "metadata": {
        "id": "30tw9XswDteF"
      },
      "outputs": [],
      "source": [
        "# # This Python 3 environment comes with many helpful analytics libraries installed\n",
        "# # It is defined by the kaggle/python Docker image: https://github.com/kaggle/docker-python\n",
        "# # For example, here's several helpful packages to load\n",
        "\n",
        "# import numpy as np # linear algebra\n",
        "# import pandas as pd # data processing, CSV file I/O (e.g. pd.read_csv)\n",
        "\n",
        "# # Input data files are available in the read-only \"../input/\" directory\n",
        "# # For example, running this (by clicking run or pressing Shift+Enter) will list all files under the input directory\n",
        "\n",
        "# import os\n",
        "# for dirname, _, filenames in os.walk('/kaggle/input'):\n",
        "#     for filename in filenames:\n",
        "#         print(os.path.join(dirname, filename))\n",
        "\n",
        "# # You can write up to 20GB to the current directory (/kaggle/working/) that gets preserved as output when you create a version using \"Save & Run All\"\n",
        "# # You can also write temporary files to /kaggle/temp/, but they won't be saved outside of the current session"
      ]
    },
    {
      "cell_type": "markdown",
      "metadata": {
        "id": "rJLe2i1VDteF"
      },
      "source": [
        "# A Simple Starter Code for the AJL Competition\n",
        "\n",
        "@Cindy Deng\n",
        "\n",
        "---\n",
        "\n",
        "\n",
        "Hi! This starter code is designed to help you get familiar with basic Kaggle operations and guide you through the basic workflow of a machine learning project.\n",
        "\n",
        "The code outlines essential steps including data loading, preprocessing, model building, training, and generating predictions. Each section serves as a foundation, but there are many ways to enhance each step to improve your final model's accuracy. Feel free to experiment with different data augmentation techniques, model architectures, and tuning methods to optimize your final results! Some amazing tutorials are available through your AI Studio course in Canvas / in the 'Resource' section of this Kaggle competition.\n",
        "\n",
        "Good luck and have fun!\n",
        "\n",
        "---"
      ]
    },
    {
      "cell_type": "markdown",
      "metadata": {
        "id": "cL-QqBaiDteH"
      },
      "source": [
        "## Note - About file path\n",
        "\n",
        "You could use the cell above to print the names of the file directories and get the following directories:\n",
        "\n",
        "```\n",
        "/kaggle/input/bttai-ajl-2025/sample_submission.csv\n",
        "/kaggle/input/bttai-ajl-2025/train.csv\n",
        "/kaggle/input/bttai-ajl-2025/test.csv\n",
        "/kaggle/input/bttai-ajl-2025/test/test/e0374ae6c1362ff183cfba28ded5421b.jpg\n",
        "/kaggle/input/bttai-ajl-2025/test/test/437159c605260bdd079af230566af291.jpg\n",
        "...\n",
        "...\n",
        "/kaggle/input/bttai-ajl-2025/train/train/dermatomyositis/11271bdf2598afdd4260db3125e1f6a5.jpg\n",
        "/kaggle/input/bttai-ajl-2025/train/train/dermatomyositis/732819951dcf2b53d15ea7b8bb123b71.jpg\n",
        "/kaggle/input/bttai-ajl-2025/train/train/dermatomyositis/6dcc7a8abb5e1c6e670101f4b6231246.jpg\n",
        "/kaggle/input/bttai-ajl-2025/train/train/dermatomyositis/e63c3b3f0ab8905e204fe467cc7411f9.jpg\n",
        "...\n",
        "...\n",
        "```\n",
        "\n"
      ]
    },
    {
      "cell_type": "markdown",
      "metadata": {
        "id": "_NuGy-8dDteI"
      },
      "source": [
        "## 1. Import Necessary Libraries"
      ]
    },
    {
      "cell_type": "code",
      "execution_count": 5,
      "metadata": {
        "id": "sxwhMb-eDteJ"
      },
      "outputs": [],
      "source": [
        "# 1. Import Necessary Libraries\n",
        "import pandas as pd\n",
        "import numpy as np\n",
        "import os\n",
        "import tensorflow as tf\n",
        "from sklearn.model_selection import train_test_split\n",
        "from sklearn.preprocessing import LabelEncoder\n",
        "from tensorflow.keras.preprocessing.image import ImageDataGenerator\n",
        "from tensorflow.keras.models import Sequential\n",
        "from tensorflow.keras.layers import Conv2D, MaxPooling2D, Flatten, Dense, Dropout\n",
        "from tensorflow.keras.callbacks import EarlyStopping\n",
        "from tensorflow.keras import layers, models\n",
        "from tensorflow.keras.optimizers import Adam\n",
        "from tensorflow import data as tf_data\n",
        "# from utils import preprocess_test_data\n",
        "\n",
        "\n",
        "\n",
        "# Explanation:\n",
        "# - pandas and numpy: for data manipulation\n",
        "# - sklearn: for splitting data and encoding labels\n",
        "# - tensorflow.keras: for building and training the neural network"
      ]
    },
    {
      "cell_type": "markdown",
      "metadata": {
        "id": "Luyge5uGDteK"
      },
      "source": [
        "## 2. Load Data\n",
        "\n",
        "Make sure to verify the file paths if you're running on a different platform."
      ]
    },
    {
      "cell_type": "code",
      "execution_count": 6,
      "metadata": {
        "id": "IB3B4UY4DteK"
      },
      "outputs": [],
      "source": [
        "# 2. Load Data\n",
        "train_df = pd.read_csv('/content/drive/MyDrive/Personal Collab Notebooks AI-Derm/AI-Studio-Ceramide/bttai-ajl-2025/train.csv')\n",
        "test_df = pd.read_csv('/content/drive/MyDrive/Personal Collab Notebooks AI-Derm/AI-Studio-Ceramide/bttai-ajl-2025/test.csv')\n",
        "\n",
        "\n",
        "# Add .jpg extension to md5hash column to reference the file_name\n",
        "train_df['md5hash'] = train_df['md5hash'].astype(str) + '.jpg'\n",
        "test_df['md5hash'] = test_df['md5hash'].astype(str) + '.jpg'\n",
        "\n",
        "# Combine label and md5hash to form the correct path\n",
        "train_df['file_path'] = train_df['label'] + '/' + train_df['md5hash']"
      ]
    },
    {
      "cell_type": "code",
      "execution_count": 7,
      "metadata": {
        "colab": {
          "base_uri": "https://localhost:8080/"
        },
        "id": "jSWojCJ2DteL",
        "outputId": "c96152d6-08b2-430b-de55-4f397dcf9c6b"
      },
      "outputs": [
        {
          "output_type": "stream",
          "name": "stdout",
          "text": [
            "                                md5hash  fitzpatrick_scale  \\\n",
            "0  fd06d13de341cc75ad679916c5d7e6a6.jpg                  4   \n",
            "1  a4bb4e5206c4e89a303f470576fc5253.jpg                  1   \n",
            "2  c94ce27e389f96bda998e7c3fa5c4a2e.jpg                  5   \n",
            "3  ebcf2b50dd943c700d4e2b586fcd4425.jpg                  3   \n",
            "4  c77d6c895f05fea73a8f3704307036c0.jpg                  1   \n",
            "\n",
            "   fitzpatrick_centaur                             label nine_partition_label  \\\n",
            "0                    4                 prurigo-nodularis     benign-epidermal   \n",
            "1                    1  basal-cell-carcinoma-morpheiform  malignant-epidermal   \n",
            "2                    5                            keloid         inflammatory   \n",
            "3                    3              basal-cell-carcinoma  malignant-epidermal   \n",
            "4                    1                 prurigo-nodularis     benign-epidermal   \n",
            "\n",
            "  three_partition_label            qc  ddi_scale  \\\n",
            "0                benign           NaN         34   \n",
            "1             malignant           NaN         12   \n",
            "2        non-neoplastic  1 Diagnostic         56   \n",
            "3             malignant           NaN         34   \n",
            "4                benign           NaN         12   \n",
            "\n",
            "                                           file_path  \n",
            "0  prurigo-nodularis/fd06d13de341cc75ad679916c5d7...  \n",
            "1  basal-cell-carcinoma-morpheiform/a4bb4e5206c4e...  \n",
            "2        keloid/c94ce27e389f96bda998e7c3fa5c4a2e.jpg  \n",
            "3  basal-cell-carcinoma/ebcf2b50dd943c700d4e2b586...  \n",
            "4  prurigo-nodularis/c77d6c895f05fea73a8f37043070...  \n"
          ]
        }
      ],
      "source": [
        "# Check the first few rows to understand the structure\n",
        "print(train_df.head())"
      ]
    },
    {
      "cell_type": "markdown",
      "metadata": {
        "id": "VJ3h85f_DteM"
      },
      "source": [
        "## 3. Data Preprocessing\n",
        "\n",
        "\n",
        "This section demonstrates basic preprocessing techniques. To enhance data quality and model performance, consider incorporating more advanced preprocessing methods.\n",
        "\n",
        "For further guidance, feel free to take a look at the [Image Preprocessing tutorial](https://colab.research.google.com/drive/1-ItNcRMbZBE6BCwPT-wD8m3YmHqwHxme?usp=sharing)  available in the 'Resources' section of this Kaggle competition.\n"
      ]
    },
    {
      "cell_type": "code",
      "execution_count": 8,
      "metadata": {
        "id": "edl8lXjKDteN"
      },
      "outputs": [],
      "source": [
        "# 3. Data Preprocessing\n",
        "# Encode the labels\n",
        "label_encoder = LabelEncoder()\n",
        "train_df['encoded_label'] = label_encoder.fit_transform(train_df['label'])\n",
        "\n",
        "# Split the data into training and validation sets\n",
        "train_data, val_data = train_test_split(train_df, test_size=0.2, random_state=42)\n",
        "\n",
        "# Define image data generators for training and validation\n",
        "train_datagen = ImageDataGenerator(rescale=1./255)\n",
        "val_datagen = ImageDataGenerator(rescale=1./255)\n",
        "\n",
        "# Define the directory paths\n",
        "train_dir = '/content/drive/MyDrive/Personal Collab Notebooks AI-Derm/AI-Studio-Ceramide/bttai-ajl-2025/train/train'"
      ]
    },
    {
      "cell_type": "code",
      "execution_count": 9,
      "metadata": {
        "id": "oFGX30lMDteN"
      },
      "outputs": [],
      "source": [
        "def create_generator(dataframe, directory, batch_size=32, target_size=(128, 128)):\n",
        "    \"\"\"\n",
        "    Template function to create image generators.\n",
        "    Students should complete this function to load images and labels properly.\n",
        "    \"\"\"\n",
        "    # Fill in the correct flow_from_dataframe parameters\n",
        "    generator = train_datagen.flow_from_dataframe(\n",
        "        dataframe= dataframe,\n",
        "        directory= directory,\n",
        "        x_col='file_path',  # Use combined path\n",
        "        y_col='encoded_label',\n",
        "        target_size=target_size,\n",
        "        batch_size=batch_size,\n",
        "        class_mode='raw',\n",
        "        validate_filenames=False  # Disable strict filename validation\n",
        "    )\n",
        "    return generator"
      ]
    },
    {
      "cell_type": "code",
      "execution_count": 10,
      "metadata": {
        "colab": {
          "base_uri": "https://localhost:8080/"
        },
        "id": "DglG3HJZDteO",
        "outputId": "ac7f84cc-9042-47b8-f40b-00012f28cbb7"
      },
      "outputs": [
        {
          "output_type": "stream",
          "name": "stdout",
          "text": [
            "Found 2288 non-validated image filenames.\n",
            "Found 572 non-validated image filenames.\n"
          ]
        }
      ],
      "source": [
        "# Create generators\n",
        "train_generator = create_generator(train_data, train_dir)\n",
        "val_generator = create_generator(val_data, train_dir)"
      ]
    },
    {
      "cell_type": "markdown",
      "metadata": {
        "id": "J25JW7pyDteO"
      },
      "source": [
        "## 4. Build the model\n"
      ]
    },
    {
      "cell_type": "code",
      "execution_count": 11,
      "metadata": {
        "id": "wuFc7JQHDteO"
      },
      "outputs": [],
      "source": [
        "# TODO: You should implement the model architecture here.\n",
        "# Feel free to explore different model types that best serve your purpose.\n",
        "#ResNet34\n",
        "\n",
        "def identity_block (x, filter):\n",
        "    x_skip = x\n",
        "\n",
        "    # Layer 1\n",
        "    x = layers.Conv2D(filter, (2,2), padding = 'same')(x)\n",
        "    x = layers.BatchNormalization(axis=2)(x)\n",
        "    x = layers.Activation('relu')(x)\n",
        "    # Layer 2\n",
        "    x = layers.Conv2D(filter, (3,3), padding = 'same')(x)\n",
        "    x = layers.BatchNormalization(axis=3)(x)\n",
        "\n",
        "    # Add Residue\n",
        "    x = layers.Add()([x, x_skip])\n",
        "    x = layers.Activation('relu')(x)\n",
        "    return x\n",
        "\n"
      ]
    },
    {
      "cell_type": "code",
      "execution_count": 12,
      "metadata": {
        "id": "J5pnhVCBDteO"
      },
      "outputs": [],
      "source": [
        "def convolutional_block(x, filter):\n",
        "    # copy tensor to variable called x_skip\n",
        "    x_skip = x\n",
        "    # Layer 1\n",
        "    x = layers.Conv2D(filter, (2,2), padding = 'same', strides = (2,2))(x)\n",
        "    x = layers.BatchNormalization(axis=2)(x)\n",
        "    x = layers.Activation('relu')(x)\n",
        "    # Layer 2\n",
        "    x = layers.Conv2D(filter, (3,3), padding = 'same')(x)\n",
        "    x = layers.BatchNormalization(axis=3)(x)\n",
        "    # Processing Residue with conv(1,1)\n",
        "    x_skip = layers.Conv2D(filter, (1,1), strides = (2,2))(x_skip)\n",
        "    # Add Residue\n",
        "    x = layers.Add()([x, x_skip])\n",
        "    x = layers.Activation('relu')(x)\n",
        "    return x"
      ]
    },
    {
      "cell_type": "code",
      "execution_count": 13,
      "metadata": {
        "id": "skoFf77KDteO"
      },
      "outputs": [],
      "source": [
        "def ResNet34(input_shape, num_classes):\n",
        "    inputs = layers.Input(shape=input_shape)\n",
        "\n",
        "    x = layers.Conv2D(64, (7, 7), padding='same', strides=(2, 2))(inputs)\n",
        "    x = layers.BatchNormalization()(x)\n",
        "    x = layers.ReLU()(x)\n",
        "    x = layers.MaxPooling2D((3, 3), strides=(2, 2), padding='same')(x)\n",
        "\n",
        "    block_layers = [2, 3, 4, 2]\n",
        "    filter_size = 64\n",
        "\n",
        "    for i in range(4):\n",
        "        if i == 0:\n",
        "                # For sub-block 1 Residual/Convolutional block not needed\n",
        "                for j in range(block_layers[i]):\n",
        "                    x = identity_block(x, filter_size)\n",
        "        else:\n",
        "                # One Residual/Convolutional Block followed by Identity blocks\n",
        "                # The filter size will go on increasing by a factor of 2\n",
        "            filter_size = filter_size*2\n",
        "            x = convolutional_block(x, filter_size)\n",
        "            for j in range(block_layers[i] - 1):\n",
        "                    x = identity_block(x, filter_size)\n",
        "\n",
        "\n",
        "    x = layers.AveragePooling2D((2,2), padding = 'same')(x)\n",
        "    x = layers.Flatten()(x)\n",
        "    x = layers.Dense(120, activation = 'relu')(x)\n",
        "    # x = layers.Dense(classes, activation = 'softmax')(x)\n",
        "\n",
        "    #     # # 3 blocks of 64 filters\n",
        "    #     # for _ in range(3):\n",
        "    #     #     x = identity_block(x, [64, 64, 256])\n",
        "\n",
        "    #     x = convolutional_block(x, [128, 128, 512])\n",
        "    #     for _ in range(3):\n",
        "    #         x = identity_block(x, [128, 128, 512])\n",
        "\n",
        "    #     x = convolutional_block(x, [256, 256, 1024])\n",
        "    #     for _ in range(5):\n",
        "    #         x = identity_block(x, [256, 256, 1024])\n",
        "\n",
        "    #     x = convolutional_block(x, [512, 512, 2048])\n",
        "    #     for _ in range(2):\n",
        "    #         x = identity_block(x, [512, 512, 2048])\n",
        "\n",
        "    # x = layers.GlobalAveragePooling2D()(x)\n",
        "    outputs = layers.Dense(num_classes, activation='softmax')(x)\n",
        "\n",
        "    model = models.Model(inputs, outputs)\n",
        "    return model\n",
        "\n",
        "# Example usage\n",
        "model = ResNet34(input_shape=(128, 128, 3), num_classes=34)  # Adjust classes as needed\n",
        "optimizer = Adam(learning_rate=0.0001)  # Set the learning rate here\n",
        "model.compile(optimizer= optimizer, loss='categorical_crossentropy', metrics=['accuracy'])\n",
        "# return model"
      ]
    },
    {
      "cell_type": "code",
      "execution_count": 14,
      "metadata": {
        "id": "dmoihBCxDteO"
      },
      "outputs": [],
      "source": [
        "model.compile(optimizer= optimizer, loss='sparse_categorical_crossentropy', metrics=['accuracy'])\n"
      ]
    },
    {
      "cell_type": "code",
      "source": [
        "augmentation_layers = [\n",
        "    layers.RandomFlip(\"horizontal\"),\n",
        "    layers.RandomRotation(0.1),\n",
        "]\n",
        "\n",
        "def data_augmentation(x):\n",
        "    for layer in augmentation_layers:\n",
        "        x = layer(x)\n",
        "    return x"
      ],
      "metadata": {
        "id": "vR8quxoL_Jgz"
      },
      "execution_count": 17,
      "outputs": []
    },
    {
      "cell_type": "code",
      "source": [
        "train_datagen_augmented = ImageDataGenerator(\n",
        "    rescale=1./255,\n",
        "    preprocessing_function=data_augmentation\n",
        ")"
      ],
      "metadata": {
        "id": "XrvTVS-A_Mg7"
      },
      "execution_count": 18,
      "outputs": []
    },
    {
      "cell_type": "code",
      "source": [
        "augmentation_layers = [\n",
        "    layers.RandomFlip(\"horizontal\"),\n",
        "    layers.RandomRotation(0.2),  # Increased rotation\n",
        "    layers.RandomZoom(0.2),  # Add zoom variability\n",
        "    layers.RandomTranslation(0.15, 0.15),  # Add translation\n",
        "    layers.RandomContrast(0.2),  # Add contrast variation\n",
        "    layers.RandomBrightness(0.2),  # Add brightness variation\n",
        "]\n",
        "\n",
        "def data_augmentation(x):\n",
        "    for layer in augmentation_layers:\n",
        "        x = layer(x)\n",
        "    return x\n",
        "\n",
        "train_datagen_augmented = ImageDataGenerator(\n",
        "    rescale=1./255,\n",
        "    preprocessing_function=data_augmentation\n",
        ")"
      ],
      "metadata": {
        "id": "7xoiaIRN_ObZ"
      },
      "execution_count": 19,
      "outputs": []
    },
    {
      "cell_type": "code",
      "source": [],
      "metadata": {
        "id": "Ztp_XqAa_RVl"
      },
      "execution_count": 19,
      "outputs": []
    },
    {
      "cell_type": "code",
      "source": [],
      "metadata": {
        "id": "rQAfC3EFPxMJ"
      },
      "execution_count": 19,
      "outputs": []
    },
    {
      "cell_type": "markdown",
      "metadata": {
        "id": "FL7o_mpTDteP"
      },
      "source": [
        "## 5. Train the Model\n"
      ]
    },
    {
      "cell_type": "code",
      "execution_count": 20,
      "metadata": {
        "colab": {
          "base_uri": "https://localhost:8080/"
        },
        "id": "YgKiLqrSDteP",
        "outputId": "400a84a7-f5be-4072-c175-b870833a723b"
      },
      "outputs": [
        {
          "output_type": "stream",
          "name": "stderr",
          "text": [
            "/usr/local/lib/python3.11/dist-packages/keras/src/trainers/data_adapters/py_dataset_adapter.py:121: UserWarning: Your `PyDataset` class should call `super().__init__(**kwargs)` in its constructor. `**kwargs` can include `workers`, `use_multiprocessing`, `max_queue_size`. Do not pass these arguments to `fit()`, as they will be ignored.\n",
            "  self._warn_if_super_not_called()\n"
          ]
        },
        {
          "output_type": "stream",
          "name": "stdout",
          "text": [
            "\u001b[1m72/72\u001b[0m \u001b[32m━━━━━━━━━━━━━━━━━━━━\u001b[0m\u001b[37m\u001b[0m \u001b[1m863s\u001b[0m 12s/step - accuracy: 0.1299 - loss: 3.1982 - val_accuracy: 0.1049 - val_loss: 3.1894\n"
          ]
        }
      ],
      "source": [
        "# TODO: Train your model here.\n",
        "\n",
        "# model = ResNet34(input_shape=(128, 128, 3), num_classes=10)\n",
        "history = model.fit(train_generator,epochs = 1, validation_data=val_generator)"
      ]
    },
    {
      "cell_type": "markdown",
      "metadata": {
        "id": "oK38mscmDteP"
      },
      "source": [
        "## 6. Make Predictions on Test Data"
      ]
    },
    {
      "cell_type": "code",
      "execution_count": 22,
      "metadata": {
        "id": "afp2auVeDteP"
      },
      "outputs": [],
      "source": [
        "# 6. Make Predictions on Test Data\n",
        "def preprocess_test_data(test_df, directory):\n",
        "    \"\"\"\n",
        "    Template for loading and preprocessing test images.\n",
        "    \"\"\"\n",
        "    # TODO: create a generator for the test set here.\n",
        "    test_df['file_path'] = test_df['md5hash'].apply(lambda x: os.path.join(directory, x)) # Create file_path column\n",
        "\n",
        "    test_datagen = ImageDataGenerator(rescale=1./255)\n",
        "    test_generator = test_datagen.flow_from_dataframe(\n",
        "        test_df,\n",
        "        directory= directory,\n",
        "        x_col='file_path',\n",
        "        target_size=(128, 128),\n",
        "        batch_size=32,\n",
        "        class_mode=None,\n",
        "        shuffle=False\n",
        "    )\n",
        "    return test_generator\n"
      ]
    },
    {
      "cell_type": "code",
      "execution_count": 23,
      "metadata": {
        "colab": {
          "base_uri": "https://localhost:8080/"
        },
        "id": "Bj_t5PN_DteP",
        "outputId": "bbe21d1e-b5f9-44cb-df2e-074344379d19"
      },
      "outputs": [
        {
          "output_type": "stream",
          "name": "stdout",
          "text": [
            "Found 1227 validated image filenames.\n"
          ]
        }
      ],
      "source": [
        "# Load test data\n",
        "from tensorflow.keras.preprocessing.image import ImageDataGenerator\n",
        "\n",
        "test_dir = '/content/drive/MyDrive/Personal Collab Notebooks AI-Derm/AI-Studio-Ceramide/bttai-ajl-2025/test/test'\n",
        "test_generator = preprocess_test_data(test_df, test_dir)"
      ]
    },
    {
      "cell_type": "markdown",
      "metadata": {
        "id": "iqsYydLaDteP"
      },
      "source": [
        "## 7. Generate Predictions"
      ]
    },
    {
      "cell_type": "code",
      "execution_count": 24,
      "metadata": {
        "colab": {
          "base_uri": "https://localhost:8080/"
        },
        "id": "P2mFMNn3DteP",
        "outputId": "ce88df61-c4f8-46d5-b5ec-0fb74915813f"
      },
      "outputs": [
        {
          "output_type": "stream",
          "name": "stderr",
          "text": [
            "/usr/local/lib/python3.11/dist-packages/keras/src/trainers/data_adapters/py_dataset_adapter.py:121: UserWarning: Your `PyDataset` class should call `super().__init__(**kwargs)` in its constructor. `**kwargs` can include `workers`, `use_multiprocessing`, `max_queue_size`. Do not pass these arguments to `fit()`, as they will be ignored.\n",
            "  self._warn_if_super_not_called()\n"
          ]
        },
        {
          "output_type": "stream",
          "name": "stdout",
          "text": [
            "\u001b[1m39/39\u001b[0m \u001b[32m━━━━━━━━━━━━━━━━━━━━\u001b[0m\u001b[37m\u001b[0m \u001b[1m339s\u001b[0m 9s/step\n"
          ]
        }
      ],
      "source": [
        "# # TODO\n",
        "# # Generate predictions based on the trained model\n",
        "# # Then, save the predictions into a CSV file for submission\n",
        "\n",
        "# Generate predictions based on the trained model\n",
        "predictions = model.predict(test_generator)\n",
        "\n",
        "# Get the predicted class labels by taking the argmax of the predictions\n",
        "predicted_labels = np.argmax(predictions, axis=1)"
      ]
    },
    {
      "cell_type": "code",
      "source": [
        "from sklearn.metrics import f1_score\n",
        "import numpy as np\n",
        "\n",
        "predictions = model.predict(test_generator)\n",
        "predicted_labels = np.argmax(predictions, axis=1)\n",
        "\n",
        "val_true_labels = val_data['label']\n",
        "val_predicted_labels = label_encoder.inverse_transform(np.argmax(predictions[:len(val_true_labels)], axis=1))\n",
        "\n",
        "# Calculate F1 score\n",
        "f1 = f1_score(val_true_labels, val_predicted_labels, average='weighted')\n",
        "\n",
        "# Print the result\n",
        "print(f\"ResNet-34 F1 Score: {f1:.4f}\")"
      ],
      "metadata": {
        "colab": {
          "base_uri": "https://localhost:8080/"
        },
        "id": "F9EmL7HUK__B",
        "outputId": "ec541e58-0c08-4d13-a4c1-ed69bdb6da13"
      },
      "execution_count": 44,
      "outputs": [
        {
          "output_type": "stream",
          "name": "stdout",
          "text": [
            "\u001b[1m39/39\u001b[0m \u001b[32m━━━━━━━━━━━━━━━━━━━━\u001b[0m\u001b[37m\u001b[0m \u001b[1m40s\u001b[0m 1s/step\n",
            "ResNet-34 F1 Score: 0.0335\n"
          ]
        }
      ]
    },
    {
      "cell_type": "code",
      "source": [
        "import matplotlib.pyplot as plt\n",
        "\n",
        "\n",
        "# Create a simple bar graph for the F1 score\n",
        "plt.figure(figsize=(8, 6))\n",
        "plt.bar('ResNet-34', f1, color='blue', width=0.6)\n",
        "\n",
        "# Add the value on top of the bar\n",
        "plt.text('ResNet-34', f1 + 0.01, f\"{f1:.4f}\", ha='center', va='bottom', fontsize=12)\n",
        "\n",
        "# Customize the graph\n",
        "plt.ylim(0, 1.0)  # F1 score range is 0 to 1\n",
        "plt.ylabel('F1 Score', fontsize=14)\n",
        "plt.title('ResNet-34 Model F1 Score', fontsize=16)\n",
        "plt.grid(axis='y', linestyle='--', alpha=0.7)\n",
        "\n",
        "# Save the figure\n",
        "plt.savefig('resnet34_f1_score.png', dpi=300, bbox_inches='tight')\n",
        "\n",
        "# Display the graph\n",
        "plt.show()"
      ],
      "metadata": {
        "colab": {
          "base_uri": "https://localhost:8080/",
          "height": 547
        },
        "id": "VOXC0ttbQt29",
        "outputId": "6ae3e246-7d82-495f-aa86-97ad2cfaa7e9"
      },
      "execution_count": 46,
      "outputs": [
        {
          "output_type": "display_data",
          "data": {
            "text/plain": [
              "<Figure size 800x600 with 1 Axes>"
            ],
            "image/png": "[encoded data removed]"
          },
          "metadata": {}
        }
      ]
    },
    {
      "cell_type": "code",
      "source": [
        "#Add predicted labels to test_df to match train_df\n",
        "predicted_labels = label_encoder.inverse_transform(predicted_labels) # Inverse transform to get original labels\n",
        "test_df['predicted_label'] = predicted_labels # Assign predicted labels to the DataFrame\n",
        "test_df['md5hash'] = test_df['md5hash'].str.replace('.jpg', '', regex=False)\n",
        "\n",
        "# Save Predictions\n",
        "test_df[['md5hash', 'predicted_label']].to_csv('predictions.csv', index=False)\n",
        "print(\"Predictions saved to predictions.csv\")"
      ],
      "metadata": {
        "colab": {
          "base_uri": "https://localhost:8080/"
        },
        "id": "sMv5oA4P8sZ_",
        "outputId": "8bc1b2cb-5beb-4387-b870-4856f83eea0f"
      },
      "execution_count": 25,
      "outputs": [
        {
          "output_type": "stream",
          "name": "stdout",
          "text": [
            "Predictions saved to predictions.csv\n"
          ]
        }
      ]
    },
    {
      "cell_type": "code",
      "execution_count": 26,
      "metadata": {
        "colab": {
          "base_uri": "https://localhost:8080/"
        },
        "id": "n-18WF7lDteQ",
        "outputId": "d598f688-867d-4c6d-d425-959e566be319"
      },
      "outputs": [
        {
          "output_type": "stream",
          "name": "stdout",
          "text": [
            "Index(['md5hash', 'fitzpatrick_scale', 'fitzpatrick_centaur', 'qc',\n",
            "       'ddi_scale', 'file_path', 'predicted_label'],\n",
            "      dtype='object')\n"
          ]
        }
      ],
      "source": [
        "print(test_df.columns)"
      ]
    },
    {
      "cell_type": "code",
      "execution_count": 27,
      "metadata": {
        "id": "WpGLWB0KDteQ"
      },
      "outputs": [],
      "source": [
        "# Save Predictions\n",
        "# test_df[['md5hash', 'predicted_label']].to_csv('predictions.csv', index=False)\n",
        "# print(\"Predictions saved to predictions.csv\")"
      ]
    },
    {
      "cell_type": "code",
      "source": [],
      "metadata": {
        "id": "PBfeJ6zYH0Hg"
      },
      "execution_count": null,
      "outputs": []
    }
  ],
  "metadata": {
    "colab": {
      "provenance": []
    },
    "kaggle": {
      "accelerator": "none",
      "dataSources": [
        {
          "databundleVersionId": 10898385,
          "sourceId": 90489,
          "sourceType": "competition"
        }
      ],
      "dockerImageVersionId": 30839,
      "isGpuEnabled": false,
      "isInternetEnabled": false,
      "language": "python",
      "sourceType": "notebook"
    },
    "kernelspec": {
      "display_name": "Python 3",
      "language": "python",
      "name": "python3"
    },
    "language_info": {
      "codemirror_mode": {
        "name": "ipython",
        "version": 3
      },
      "file_extension": ".py",
      "mimetype": "text/x-python",
      "name": "python",
      "nbconvert_exporter": "python",
      "pygments_lexer": "ipython3",
      "version": "3.10.12"
    },
    "widgets": {
      "application/vnd.jupyter.widget-state+json": {
        "dd5679559d2b4e4aa4c532071020f4be": {
          "model_module": "@jupyter-widgets/controls",
          "model_name": "VBoxModel",
          "model_module_version": "1.5.0",
          "state": {
            "_dom_classes": [],
            "_model_module": "@jupyter-widgets/controls",
            "_model_module_version": "1.5.0",
            "_model_name": "VBoxModel",
            "_view_count": null,
            "_view_module": "@jupyter-widgets/controls",
            "_view_module_version": "1.5.0",
            "_view_name": "VBoxView",
            "box_style": "",
            "children": [
              "IPY_MODEL_8a904352691a4d97abc72358dfb9cbf9",
              "IPY_MODEL_3c177c7275f540978e05db0e7cf4efcf",
              "IPY_MODEL_14463d0e0bc3472abb845f2e73d047f6",
              "IPY_MODEL_3ae3736b24ad494380bbced0bc2837b4",
              "IPY_MODEL_c4371c15bd3141cba6863fd0ba50597f"
            ],
            "layout": "IPY_MODEL_e97a4543b04c4e45988148b23e82f535"
          }
        },
        "8a904352691a4d97abc72358dfb9cbf9": {
          "model_module": "@jupyter-widgets/controls",
          "model_name": "HTMLModel",
          "model_module_version": "1.5.0",
          "state": {
            "_dom_classes": [],
            "_model_module": "@jupyter-widgets/controls",
            "_model_module_version": "1.5.0",
            "_model_name": "HTMLModel",
            "_view_count": null,
            "_view_module": "@jupyter-widgets/controls",
            "_view_module_version": "1.5.0",
            "_view_name": "HTMLView",
            "description": "",
            "description_tooltip": null,
            "layout": "IPY_MODEL_c2b045a9898c4f9ea7973d5a9d3a642c",
            "placeholder": "​",
            "style": "IPY_MODEL_1ee63c22e2c34db9a6d1e18ff9d2ddc5",
            "value": "<center> <img\nsrc=https://www.kaggle.com/static/images/site-logo.png\nalt='Kaggle'> <br> Create an API token from <a\nhref=\"https://www.kaggle.com/settings/account\" target=\"_blank\">your Kaggle\nsettings page</a> and paste it below along with your Kaggle username. <br> </center>"
          }
        },
        "3c177c7275f540978e05db0e7cf4efcf": {
          "model_module": "@jupyter-widgets/controls",
          "model_name": "TextModel",
          "model_module_version": "1.5.0",
          "state": {
            "_dom_classes": [],
            "_model_module": "@jupyter-widgets/controls",
            "_model_module_version": "1.5.0",
            "_model_name": "TextModel",
            "_view_count": null,
            "_view_module": "@jupyter-widgets/controls",
            "_view_module_version": "1.5.0",
            "_view_name": "TextView",
            "continuous_update": true,
            "description": "Username:",
            "description_tooltip": null,
            "disabled": false,
            "layout": "IPY_MODEL_dfd31908732a4b19946921ec3c15f716",
            "placeholder": "​",
            "style": "IPY_MODEL_bc78dcb6ad734cada3a707f97f7e0b24",
            "value": ""
          }
        },
        "14463d0e0bc3472abb845f2e73d047f6": {
          "model_module": "@jupyter-widgets/controls",
          "model_name": "PasswordModel",
          "model_module_version": "1.5.0",
          "state": {
            "_dom_classes": [],
            "_model_module": "@jupyter-widgets/controls",
            "_model_module_version": "1.5.0",
            "_model_name": "PasswordModel",
            "_view_count": null,
            "_view_module": "@jupyter-widgets/controls",
            "_view_module_version": "1.5.0",
            "_view_name": "PasswordView",
            "continuous_update": true,
            "description": "Token:",
            "description_tooltip": null,
            "disabled": false,
            "layout": "IPY_MODEL_a1f508ee467044b99d873009ac8ea29d",
            "placeholder": "​",
            "style": "IPY_MODEL_246e30354d5f496ab01d9075aa0590d1",
            "value": ""
          }
        },
        "3ae3736b24ad494380bbced0bc2837b4": {
          "model_module": "@jupyter-widgets/controls",
          "model_name": "ButtonModel",
          "model_module_version": "1.5.0",
          "state": {
            "_dom_classes": [],
            "_model_module": "@jupyter-widgets/controls",
            "_model_module_version": "1.5.0",
            "_model_name": "ButtonModel",
            "_view_count": null,
            "_view_module": "@jupyter-widgets/controls",
            "_view_module_version": "1.5.0",
            "_view_name": "ButtonView",
            "button_style": "",
            "description": "Login",
            "disabled": false,
            "icon": "",
            "layout": "IPY_MODEL_b4fbcf0a40e24bceb01a424451c40100",
            "style": "IPY_MODEL_79162e7501704f00974440fd2fbd8bf1",
            "tooltip": ""
          }
        },
        "c4371c15bd3141cba6863fd0ba50597f": {
          "model_module": "@jupyter-widgets/controls",
          "model_name": "HTMLModel",
          "model_module_version": "1.5.0",
          "state": {
            "_dom_classes": [],
            "_model_module": "@jupyter-widgets/controls",
            "_model_module_version": "1.5.0",
            "_model_name": "HTMLModel",
            "_view_count": null,
            "_view_module": "@jupyter-widgets/controls",
            "_view_module_version": "1.5.0",
            "_view_name": "HTMLView",
            "description": "",
            "description_tooltip": null,
            "layout": "IPY_MODEL_28fdf12a0fcc4d5d85f59100384e5af8",
            "placeholder": "​",
            "style": "IPY_MODEL_68acde3d78b94fb78f3e13ee985dc5be",
            "value": "\n<b>Thank You</b></center>"
          }
        },
        "e97a4543b04c4e45988148b23e82f535": {
          "model_module": "@jupyter-widgets/base",
          "model_name": "LayoutModel",
          "model_module_version": "1.2.0",
          "state": {
            "_model_module": "@jupyter-widgets/base",
            "_model_module_version": "1.2.0",
            "_model_name": "LayoutModel",
            "_view_count": null,
            "_view_module": "@jupyter-widgets/base",
            "_view_module_version": "1.2.0",
            "_view_name": "LayoutView",
            "align_content": null,
            "align_items": "center",
            "align_self": null,
            "border": null,
            "bottom": null,
            "display": "flex",
            "flex": null,
            "flex_flow": "column",
            "grid_area": null,
            "grid_auto_columns": null,
            "grid_auto_flow": null,
            "grid_auto_rows": null,
            "grid_column": null,
            "grid_gap": null,
            "grid_row": null,
            "grid_template_areas": null,
            "grid_template_columns": null,
            "grid_template_rows": null,
            "height": null,
            "justify_content": null,
            "justify_items": null,
            "left": null,
            "margin": null,
            "max_height": null,
            "max_width": null,
            "min_height": null,
            "min_width": null,
            "object_fit": null,
            "object_position": null,
            "order": null,
            "overflow": null,
            "overflow_x": null,
            "overflow_y": null,
            "padding": null,
            "right": null,
            "top": null,
            "visibility": null,
            "width": "50%"
          }
        },
        "c2b045a9898c4f9ea7973d5a9d3a642c": {
          "model_module": "@jupyter-widgets/base",
          "model_name": "LayoutModel",
          "model_module_version": "1.2.0",
          "state": {
            "_model_module": "@jupyter-widgets/base",
            "_model_module_version": "1.2.0",
            "_model_name": "LayoutModel",
            "_view_count": null,
            "_view_module": "@jupyter-widgets/base",
            "_view_module_version": "1.2.0",
            "_view_name": "LayoutView",
            "align_content": null,
            "align_items": null,
            "align_self": null,
            "border": null,
            "bottom": null,
            "display": null,
            "flex": null,
            "flex_flow": null,
            "grid_area": null,
            "grid_auto_columns": null,
            "grid_auto_flow": null,
            "grid_auto_rows": null,
            "grid_column": null,
            "grid_gap": null,
            "grid_row": null,
            "grid_template_areas": null,
            "grid_template_columns": null,
            "grid_template_rows": null,
            "height": null,
            "justify_content": null,
            "justify_items": null,
            "left": null,
            "margin": null,
            "max_height": null,
            "max_width": null,
            "min_height": null,
            "min_width": null,
            "object_fit": null,
            "object_position": null,
            "order": null,
            "overflow": null,
            "overflow_x": null,
            "overflow_y": null,
            "padding": null,
            "right": null,
            "top": null,
            "visibility": null,
            "width": null
          }
        },
        "1ee63c22e2c34db9a6d1e18ff9d2ddc5": {
          "model_module": "@jupyter-widgets/controls",
          "model_name": "DescriptionStyleModel",
          "model_module_version": "1.5.0",
          "state": {
            "_model_module": "@jupyter-widgets/controls",
            "_model_module_version": "1.5.0",
            "_model_name": "DescriptionStyleModel",
            "_view_count": null,
            "_view_module": "@jupyter-widgets/base",
            "_view_module_version": "1.2.0",
            "_view_name": "StyleView",
            "description_width": ""
          }
        },
        "dfd31908732a4b19946921ec3c15f716": {
          "model_module": "@jupyter-widgets/base",
          "model_name": "LayoutModel",
          "model_module_version": "1.2.0",
          "state": {
            "_model_module": "@jupyter-widgets/base",
            "_model_module_version": "1.2.0",
            "_model_name": "LayoutModel",
            "_view_count": null,
            "_view_module": "@jupyter-widgets/base",
            "_view_module_version": "1.2.0",
            "_view_name": "LayoutView",
            "align_content": null,
            "align_items": null,
            "align_self": null,
            "border": null,
            "bottom": null,
            "display": null,
            "flex": null,
            "flex_flow": null,
            "grid_area": null,
            "grid_auto_columns": null,
            "grid_auto_flow": null,
            "grid_auto_rows": null,
            "grid_column": null,
            "grid_gap": null,
            "grid_row": null,
            "grid_template_areas": null,
            "grid_template_columns": null,
            "grid_template_rows": null,
            "height": null,
            "justify_content": null,
            "justify_items": null,
            "left": null,
            "margin": null,
            "max_height": null,
            "max_width": null,
            "min_height": null,
            "min_width": null,
            "object_fit": null,
            "object_position": null,
            "order": null,
            "overflow": null,
            "overflow_x": null,
            "overflow_y": null,
            "padding": null,
            "right": null,
            "top": null,
            "visibility": null,
            "width": null
          }
        },
        "bc78dcb6ad734cada3a707f97f7e0b24": {
          "model_module": "@jupyter-widgets/controls",
          "model_name": "DescriptionStyleModel",
          "model_module_version": "1.5.0",
          "state": {
            "_model_module": "@jupyter-widgets/controls",
            "_model_module_version": "1.5.0",
            "_model_name": "DescriptionStyleModel",
            "_view_count": null,
            "_view_module": "@jupyter-widgets/base",
            "_view_module_version": "1.2.0",
            "_view_name": "StyleView",
            "description_width": ""
          }
        },
        "a1f508ee467044b99d873009ac8ea29d": {
          "model_module": "@jupyter-widgets/base",
          "model_name": "LayoutModel",
          "model_module_version": "1.2.0",
          "state": {
            "_model_module": "@jupyter-widgets/base",
            "_model_module_version": "1.2.0",
            "_model_name": "LayoutModel",
            "_view_count": null,
            "_view_module": "@jupyter-widgets/base",
            "_view_module_version": "1.2.0",
            "_view_name": "LayoutView",
            "align_content": null,
            "align_items": null,
            "align_self": null,
            "border": null,
            "bottom": null,
            "display": null,
            "flex": null,
            "flex_flow": null,
            "grid_area": null,
            "grid_auto_columns": null,
            "grid_auto_flow": null,
            "grid_auto_rows": null,
            "grid_column": null,
            "grid_gap": null,
            "grid_row": null,
            "grid_template_areas": null,
            "grid_template_columns": null,
            "grid_template_rows": null,
            "height": null,
            "justify_content": null,
            "justify_items": null,
            "left": null,
            "margin": null,
            "max_height": null,
            "max_width": null,
            "min_height": null,
            "min_width": null,
            "object_fit": null,
            "object_position": null,
            "order": null,
            "overflow": null,
            "overflow_x": null,
            "overflow_y": null,
            "padding": null,
            "right": null,
            "top": null,
            "visibility": null,
            "width": null
          }
        },
        "246e30354d5f496ab01d9075aa0590d1": {
          "model_module": "@jupyter-widgets/controls",
          "model_name": "DescriptionStyleModel",
          "model_module_version": "1.5.0",
          "state": {
            "_model_module": "@jupyter-widgets/controls",
            "_model_module_version": "1.5.0",
            "_model_name": "DescriptionStyleModel",
            "_view_count": null,
            "_view_module": "@jupyter-widgets/base",
            "_view_module_version": "1.2.0",
            "_view_name": "StyleView",
            "description_width": ""
          }
        },
        "b4fbcf0a40e24bceb01a424451c40100": {
          "model_module": "@jupyter-widgets/base",
          "model_name": "LayoutModel",
          "model_module_version": "1.2.0",
          "state": {
            "_model_module": "@jupyter-widgets/base",
            "_model_module_version": "1.2.0",
            "_model_name": "LayoutModel",
            "_view_count": null,
            "_view_module": "@jupyter-widgets/base",
            "_view_module_version": "1.2.0",
            "_view_name": "LayoutView",
            "align_content": null,
            "align_items": null,
            "align_self": null,
            "border": null,
            "bottom": null,
            "display": null,
            "flex": null,
            "flex_flow": null,
            "grid_area": null,
            "grid_auto_columns": null,
            "grid_auto_flow": null,
            "grid_auto_rows": null,
            "grid_column": null,
            "grid_gap": null,
            "grid_row": null,
            "grid_template_areas": null,
            "grid_template_columns": null,
            "grid_template_rows": null,
            "height": null,
            "justify_content": null,
            "justify_items": null,
            "left": null,
            "margin": null,
            "max_height": null,
            "max_width": null,
            "min_height": null,
            "min_width": null,
            "object_fit": null,
            "object_position": null,
            "order": null,
            "overflow": null,
            "overflow_x": null,
            "overflow_y": null,
            "padding": null,
            "right": null,
            "top": null,
            "visibility": null,
            "width": null
          }
        },
        "79162e7501704f00974440fd2fbd8bf1": {
          "model_module": "@jupyter-widgets/controls",
          "model_name": "ButtonStyleModel",
          "model_module_version": "1.5.0",
          "state": {
            "_model_module": "@jupyter-widgets/controls",
            "_model_module_version": "1.5.0",
            "_model_name": "ButtonStyleModel",
            "_view_count": null,
            "_view_module": "@jupyter-widgets/base",
            "_view_module_version": "1.2.0",
            "_view_name": "StyleView",
            "button_color": null,
            "font_weight": ""
          }
        },
        "28fdf12a0fcc4d5d85f59100384e5af8": {
          "model_module": "@jupyter-widgets/base",
          "model_name": "LayoutModel",
          "model_module_version": "1.2.0",
          "state": {
            "_model_module": "@jupyter-widgets/base",
            "_model_module_version": "1.2.0",
            "_model_name": "LayoutModel",
            "_view_count": null,
            "_view_module": "@jupyter-widgets/base",
            "_view_module_version": "1.2.0",
            "_view_name": "LayoutView",
            "align_content": null,
            "align_items": null,
            "align_self": null,
            "border": null,
            "bottom": null,
            "display": null,
            "flex": null,
            "flex_flow": null,
            "grid_area": null,
            "grid_auto_columns": null,
            "grid_auto_flow": null,
            "grid_auto_rows": null,
            "grid_column": null,
            "grid_gap": null,
            "grid_row": null,
            "grid_template_areas": null,
            "grid_template_columns": null,
            "grid_template_rows": null,
            "height": null,
            "justify_content": null,
            "justify_items": null,
            "left": null,
            "margin": null,
            "max_height": null,
            "max_width": null,
            "min_height": null,
            "min_width": null,
            "object_fit": null,
            "object_position": null,
            "order": null,
            "overflow": null,
            "overflow_x": null,
            "overflow_y": null,
            "padding": null,
            "right": null,
            "top": null,
            "visibility": null,
            "width": null
          }
        },
        "68acde3d78b94fb78f3e13ee985dc5be": {
          "model_module": "@jupyter-widgets/controls",
          "model_name": "DescriptionStyleModel",
          "model_module_version": "1.5.0",
          "state": {
            "_model_module": "@jupyter-widgets/controls",
            "_model_module_version": "1.5.0",
            "_model_name": "DescriptionStyleModel",
            "_view_count": null,
            "_view_module": "@jupyter-widgets/base",
            "_view_module_version": "1.2.0",
            "_view_name": "StyleView",
            "description_width": ""
          }
        }
      }
    }
  },
  "nbformat": 4,
  "nbformat_minor": 0
}
